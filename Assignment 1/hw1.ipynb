{
 "cells": [
  {
   "cell_type": "markdown",
   "metadata": {},
   "source": [
    "# CS 584 - Spatial Algorithms\n",
    "### Mitchell Scott (mtscot4)\n",
    "### Fall 2024\n",
    "\n",
    "## Assignment 1-1\n",
    "***\n",
    "Given the following points:\n",
    "- $p_1 = (2, 5), p_2 = (2, 6), p_3 = (0, 2)$,\n",
    "- $p_4 = (0, 13), p_5 = (3, 7), p_6 = (−1, 9)$.\n",
    "\n",
    "(a.) What is the area of the triangles $\\triangle(p_1, p_2, p_3)$ and $\\triangle(p_4, p_5, p_6)$? (2p)\n",
    "\n",
    "For the area of the first $\\triangle(p_1, p_2, p_3)$, WLOG, we subtract $p_1$ from all points so that we have one of the points at the origin. This is possible since translations don't affect area. This means we can define $\\tilde{p}_1 = (0,0), \\tilde{p}_2 = (0,1), \\tilde{p}_3 = (-2,-3)$. Next we recall that we can take the cross product of the two vectors scaled by $\\frac{1}{2}$ to find the area.\n",
    "\n",
    "\\begin{align}\n",
    "A_\\triangle(p_1, p_2, p_3) &= A_\\triangle(\\tilde{p}_1, \\tilde{p}_2, \\tilde{p}_3)\\\\\n",
    "&= \\frac{1}{2} \\begin{vmatrix}\n",
    "0 & 1 \\\\ -2 & -3\n",
    "\\end{vmatrix}\\\\\n",
    "&= \\frac{1}{2} \\left(0(-3) - (-2)(1)\\right)\\\\\n",
    "&= 1\n",
    "\\end{align}\n",
    "\n",
    "Since this is an easy example, we could also visualize the points. Since $p_1$ and $p_2$ are one unit apart, our base is 1. Similarly, since $p_2$ and $p_3$ differ by two units, the height is 2, so using the standard formula, $A = \\frac{1}{2}bh = \\frac{1}{2}(1)(2) = 1$, we see we arrive at the same answer.\n",
    "\n",
    "Now, using the exact same technique as before, we find the area of $\\triangle(p_4, p_5, p_6)$\n",
    "\\begin{align}\n",
    "    A_\\triangle(p_4, p_5, p_6) &= A_\\triangle(0, p_5-p_4, p_6-p_4)\\\\\n",
    "    &= A_\\triangle((0,0), (3,-6), (-1,-4))\\\\\n",
    "    &= \\frac{1}{2}\\begin{vmatrix} 3 & -6\\\\ -1 & -4\\end{vmatrix}\\\\\n",
    "    &= \\frac{1}{2} \\left((3)(-4) - (-6)(-1)\\right)\\\\\n",
    "    &= |-9|\\\\\n",
    "    &= 9\n",
    "\\end{align}\n",
    "\n",
    "This was independently verified by using the points to find the $\\ell^2$ distance between them, then from this applying Heron's theorem which is:\n",
    "\\begin{align}\n",
    "A_\\triangle(a,b,c) &= \\sqrt{s(s-a)(s-b)(s-c)},\n",
    "\\end{align}\n",
    "\n",
    "where $s = \\frac{a+b+c}{2}$ is the semi-perimeter. This nasty calculations, expidited by Wolfram Alpha, also confirmed that $A_\\triangle(p_4,p_5,p_6) = 9$."
   ]
  },
  {
   "cell_type": "markdown",
   "metadata": {},
   "source": [
    "(b.) Is Point $p_3$ located on the right or on the left of line segment $\\overline{\\rm p_1p_2}$? Is Point $p_4$ located on the right or on\n",
    "the left of line segment $\\overline{\\rm p_5p_6}$?\n",
    "\n",
    "As we discussed in class, we define `rhs`$(p_1,p_2,q)$ as\n",
    "\\begin{align}\n",
    "`rhs`(p_1,p_2,q) &:= - \\text{sgn}\\bigg(\\left(p_1-q\\right) \\times \\left(p_2-q\\right)\\bigg)\n",
    "\\end{align}\n",
    "\n",
    "Now testing with $p_1,p_2, p_3$ defined above. Since we have $p_3$ as the query point, we have \n",
    "\\begin{align}\n",
    "`rhs`(p_1,p_2,p_3) &:= - \\text{sgn}\\bigg((\\right) \\times \\left(\\right)\\bigg)\\\\\n",
    "&= -\\text{sgm} \\bigg(0(-3)- 1(-2)\\bigg)\\\\\n",
    "&= -\\text{sgn} (2)\\\\\n",
    "&= -1\n",
    "\\end{align}"
   ]
  },
  {
   "cell_type": "code",
   "execution_count": null,
   "metadata": {},
   "outputs": [],
   "source": [
    "class Point:\n",
    "  def __init__(self, x, y):\n",
    "    self.x = x\n",
    "    self.y = y\n",
    "\n",
    "class LineSegment:\n",
    "  def __init__(self, p1, p2):\n",
    "    self.start = Point(p1.x,p1.y)\n",
    "    self.end = Point(p2.x, p2.y)\n",
    "    "
   ]
  }
 ],
 "metadata": {
  "language_info": {
   "name": "python"
  }
 },
 "nbformat": 4,
 "nbformat_minor": 2
}
