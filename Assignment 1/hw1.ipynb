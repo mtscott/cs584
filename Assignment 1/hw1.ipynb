{
 "cells": [
  {
   "cell_type": "markdown",
   "metadata": {},
   "source": [
    "# CS 584 - Spatial Algorithms\n",
    "### Mitchell Scott (mtscot4)\n",
    "### Fall 2024\n",
    "\n",
    "## Assignment 1-1\n",
    "***\n",
    "Given the following points:\n",
    "- $p_1 = (2, 5), p_2 = (2, 6), p_3 = (0, 2)$,\n",
    "- $p_4 = (0, 13), p_5 = (3, 7), p_6 = (−1, 9)$.\n",
    "\n",
    "(a.) What is the area of the triangles $\\triangle(p_1, p_2, p_3)$ and $\\triangle(p_4, p_5, p_6)$? (2p)\n",
    "\n",
    "For the area of the first $\\triangle(p_1, p_2, p_3)$, WLOG, we subtract $p_1$ from all points so that we have one of the points at the origin. This is possible since translations don't affect area. This means we can define $\\tilde{p}_1 = (0,0), \\tilde{p}_2 = (0,1), \\tilde{p}_3 = (-2,-3)$. Next we recall that we can take the cross product of the two vectors scaled by $\\frac{1}{2}$ to find the area.\n",
    "\n",
    "\\begin{align}\n",
    "A_\\triangle(p_1, p_2, p_3) &= A_\\triangle(\\tilde{p}_1, \\tilde{p}_2, \\tilde{p}_3)\\\\\n",
    "&= \\frac{1}{2} \\begin{vmatrix}\n",
    "0 & 1 \\\\ -2 & -3\n",
    "\\end{vmatrix}\\\\\n",
    "&= \\frac{1}{2} \\left(0(-3) - (-2)(1)\\right)\\\\\n",
    "&= 1\n",
    "\\end{align}\n",
    "\n",
    "Since this is an easy example, we could also visualize the points. Since $p_1$ and $p_2$ are one unit apart, our base is 1. Similarly, since $p_2$ and $p_3$ differ by two units, the height is 2, so using the standard formula, $A = \\frac{1}{2}bh = \\frac{1}{2}(1)(2) = 1$, we see we arrive at the same answer.\n",
    "\n",
    "Now, using the exact same technique as before, we find the area of $\\triangle(p_4, p_5, p_6)$\n",
    "\\begin{align}\n",
    "    A_\\triangle(p_4, p_5, p_6) &= A_\\triangle(0, p_5-p_4, p_6-p_4)\\\\\n",
    "    &= A_\\triangle((0,0), (3,-6), (-1,-4))\\\\\n",
    "    &= \\frac{1}{2}\\begin{vmatrix} 3 & -6\\\\ -1 & -4\\end{vmatrix}\\\\\n",
    "    &= \\frac{1}{2} \\left((3)(-4) - (-6)(-1)\\right)\\\\\n",
    "    &= |-9|\\\\\n",
    "    &= 9\n",
    "\\end{align}\n",
    "\n",
    "This was independently verified by using the points to find the $\\ell^2$ distance between them, then from this applying Heron's theorem which is:\n",
    "\\begin{align}\n",
    "A_\\triangle(a,b,c) &= \\sqrt{s(s-a)(s-b)(s-c)},\n",
    "\\end{align}\n",
    "\n",
    "where $s = \\frac{a+b+c}{2}$ is the semi-perimeter. This nasty calculations, expidited by Wolfram Alpha, also confirmed that $A_\\triangle(p_4,p_5,p_6) = 9$."
   ]
  },
  {
   "cell_type": "markdown",
   "metadata": {},
   "source": [
    "(b.) Is Point $p_3$ located on the right or on the left of line segment $\\overline{\\rm p_1p_2}$? Is Point $p_4$ located on the right or on\n",
    "the left of line segment $\\overline{\\rm p_5p_6}$? (2p)\n",
    "\n",
    "As we discussed in class, we define `rhs`$(p_1,p_2,q)$ as\n",
    "\\begin{align}\n",
    "`rhs`(p_1,p_2,q) &:= - \\text{sgn}\\bigg(\\left(p_2-p_1\\right) \\times \\left(q-p_1\\right)\\bigg)\n",
    "\\end{align}\n",
    "\n",
    "Now testing with $p_1,p_2, p_3$ defined above. Since we have $p_3$ as the query point, we have \n",
    "\\begin{align}\n",
    "`rhs`(p_1,p_2,p_3) &:= - \\text{sgn}\\bigg(\\left(p_2-p_1 \\right) \\times \\left(p_3-p_1\\right)\\bigg)\\\\\n",
    "&= \\text{sgn}\\bigg(\\left(0,1 \\right) \\times \\left(-2,-3\\right)\\bigg)\\\\\n",
    "&= \\text{sgn}\\bigg(0-(-2)\\bigg)\\\\\n",
    "&= \\text{sgn}(2)\\\\\n",
    "&= 1\n",
    "\\end{align}\n",
    "\n",
    "Since this is positive, then $p_3$ is not right of $\\overline{\\rm p_1p_2}$?, so $p_3$ is $\\textbf{left}$ of $\\overline{\\rm p_1p_2}$.\n",
    "\n",
    "Repeating the above process with with $p_4,p_5, p_6$ defined above. Since we have $p_4$ as the query point, we have \n",
    "\\begin{align}\n",
    "`rhs`(p_5,p_6,p_4) &:= - \\text{sgn}\\bigg(\\left(p_6-p_5 \\right) \\times \\left(p_4-p_5\\right)\\bigg)\\\\\n",
    "&= \\text{sgn}\\bigg(\\left(-4,2 \\right) \\times \\left(-3,6\\right)\\bigg)\\\\\n",
    "&= \\text{sgn}\\bigg(-24 - (-6)\\bigg)\\\\\n",
    "&= \\text{sgn}(-18)\\\\\n",
    "&= -1\n",
    "\\end{align}\n",
    "\n",
    "Since this is negative, then $p_4$ is $\\textbf{right}$ of $\\overline{\\rm p_5p_6}$."
   ]
  },
  {
   "cell_type": "markdown",
   "metadata": {},
   "source": [
    "(c.) Consider the line segments $a = \\overline{\\rm p_1p_2}$ and $b = \\overline{\\rm p_4p_5}$. Do they cross? (2p)\n",
    "\n",
    "Recall from class the definition of `cross`($p_1,p_2,p_3,p_4$):\n",
    "\n",
    "\\begin{align}\n",
    "cross(p_1,p_2,p_3,p_4) &:= diffside(p_1,p_2,p_3,p_4) \\wedge diffside(p_3,p_4, p_1,p_2),\n",
    "\\end{align}\n",
    "\n",
    "where\n",
    "\n",
    "\\begin{align}\n",
    "diffside(p_1,p_2,p_3,p_4) &:= \\begin{cases} 1, & \\text{if } rhs(p_1,p_2,p_3)\\cdot rhs(p_1,p_2,p_4) = -1\\\\\n",
    "0 & \\text{else}\n",
    "\\end{cases}\n",
    "\\end{align}\n",
    "\n",
    "We start by computing $diffside(p_1,p_2,p_4,p_5)$.\n",
    "\\begin{align}\n",
    "diffside(p_1,p_2,p_4,p_5) &= \\bigg[rhs(p_1,p_2,p_4)*rhs(p_1,p_2,p_5) == -1\\bigg]\\\\\n",
    "&= \\bigg[-\\text{sgn}\\big((p_2-p_1)\\times (p_4-p_1)\\big)*-\\text{sgn}\\big((p_2-p_1)\\times (p_5-p_1)\\big) == -1\\bigg]\\\\\n",
    "&= \\bigg[-\\text{sgn}\\big((0,1)\\times (-2,7)\\big)*-\\text{sgn}\\big((0,1)\\times (1,2)\\big) == -1\\bigg]\\\\\n",
    "&= \\bigg[\\text{sgn}\\big(2\\big)*\\text{sgn}\\big(-1\\big) == -1\\bigg]\\\\\n",
    "&= \\bigg[1*-1 == -1\\bigg]\\\\\n",
    "&= 1\n",
    "\\end{align}\n",
    "\n",
    "Next, we compute $diffside(p_4,p_5,p_1,p_2)$.\n",
    "\n",
    "\\begin{align}\n",
    "diffside(p_4,p_5,p_1,p_2) &= \\bigg[rhs(p_4,p_5,p_1)*rhs(p_4,p_5,p_2) == -1\\bigg]\\\\\n",
    "&= \\bigg[-\\text{sgn}\\big((p_5-p_4)\\times (p_1-p_4)\\big)*-\\text{sgn}\\big((p_5-p_4)\\times (p_2-p_4)\\big) == -1\\bigg]\\\\\n",
    "&= \\bigg[-\\text{sgn}\\big((3,-6)\\times (2,-8)\\big)*-\\text{sgn}\\big((3,-6)\\times (2,-7)\\big) == -1\\bigg]\\\\\n",
    "&= \\bigg[\\text{sgn}\\big(-12\\big)*\\text{sgn}\\big(-9\\big) == -1\\bigg]\\\\\n",
    "&= \\bigg[-1*-1 == -1\\bigg]\\\\\n",
    "&= 0\n",
    "\\end{align}\n",
    "\n",
    "Combining these two results, we arrive at\n",
    "\\begin{align}\n",
    "cross(p_1,p_2,p_4,p_5) &:= diffside(p_1,p_2,p_4,p_5) \\wedge diffside(p_4,p_5, p_1,p_2)\\\\\n",
    "&= 1 \\wedge 0\\\\\n",
    "&= 0,\n",
    "\\end{align}\n",
    "so line segment $\\overline{\\rm p_1p_2} \\textbf{ does not cross } \\overline{\\rm p_4p_5}$."
   ]
  },
  {
   "cell_type": "markdown",
   "metadata": {},
   "source": [
    "(d.) Consider the line segments $a = \\overline{\\rm p_4p_1}$ and $b = \\overline{\\rm p_2p_3}$. Do they cross? (2p)\n",
    "\n",
    "Just like above, we start by computing $diffside(p_4,p_1,p_2,p_3)$.\n",
    "\\begin{align}\n",
    "diffside(p_4,p_1,p_2,p_3) &= \\bigg[rhs(p_4,p_1,p_2)*rhs(p_4,p_1,p_3) == -1\\bigg]\\\\\n",
    "&= \\bigg[-\\text{sgn}\\big((p_1-p_4)\\times (p_2-p_4)\\big)*-\\text{sgn}\\big((p_1-p_4)\\times (p_3-p_4)\\big) == -1\\bigg]\\\\\n",
    "&= \\bigg[-\\text{sgn}\\big((2,-8)\\times (2,-7)\\big)*-\\text{sgn}\\big((2,-8)\\times (0,-11)\\big) == -1\\bigg]\\\\\n",
    "&= \\bigg[\\text{sgn}\\big(2\\big)*\\text{sgn}\\big(-22\\big) == -1\\bigg]\\\\\n",
    "&= \\bigg[1*-1 == -1\\bigg]\\\\\n",
    "&= 1\n",
    "\\end{align}\n",
    "\n",
    "Next, we compute $diffside(p_2,p_3,p_4,p_1)$.\n",
    "\n",
    "\\begin{align}\n",
    "diffside(p_2,p_3,p_4,p_1) &= \\bigg[rhs(p_2,p_3,p_4)*rhs(p_2,p_3,p_1) == -1\\bigg]\\\\\n",
    "&= \\bigg[-\\text{sgn}\\big((p_3-p_2)\\times (p_4-p_2)\\big)*-\\text{sgn}\\big((p_3-p_2)\\times (p_1-p_2)\\big) == -1\\bigg]\\\\\n",
    "&= \\bigg[-\\text{sgn}\\big((-2,-4)\\times (-2,7)\\big)*-\\text{sgn}\\big((-2,-4)\\times (0,-1)\\big) == -1\\bigg]\\\\\n",
    "&= \\bigg[\\text{sgn}\\big(-22\\big)*\\text{sgn}\\big(2\\big) == -1\\bigg]\\\\\n",
    "&= \\bigg[-1*1 == -1\\bigg]\\\\\n",
    "&= 1\n",
    "\\end{align}\n",
    "\n",
    "Combining these two results, we arrive at\n",
    "\\begin{align}\n",
    "cross(p_4,p_1,p_2,p_3) &:= diffside(p_4,p_1,p_2,p_3) \\wedge diffside(p_2,p_3, p_4,p_1)\\\\\n",
    "&= 1 \\wedge 1\\\\\n",
    "&= 1,\n",
    "\\end{align}\n",
    "so line segment $\\overline{\\rm p_4p_1} \\textbf{ does cross } \\overline{\\rm p_2p_3}$."
   ]
  },
  {
   "cell_type": "markdown",
   "metadata": {},
   "source": [
    "## Assignment 1-2\n",
    "***\n",
    "\n",
    "(a.) Create a Class Point, which stores two numeric attributes: $x$ and $y$. (2p)"
   ]
  },
  {
   "cell_type": "code",
   "execution_count": 23,
   "metadata": {},
   "outputs": [],
   "source": [
    "class Point:\n",
    "  def __init__(self, x, y):\n",
    "    self.x = x\n",
    "    self.y = y    "
   ]
  },
  {
   "cell_type": "markdown",
   "metadata": {},
   "source": [
    "(b.) Create a class LinSegment, which stores two attributes: a Point $A$, and a Point $B$. Note, it is paramount (Object Orientation) here that the LineSegment class uses the Point class that you created before. (2p) "
   ]
  },
  {
   "cell_type": "code",
   "execution_count": 24,
   "metadata": {},
   "outputs": [],
   "source": [
    "class LineSegment:\n",
    "  def __init__(self, p1, p2):\n",
    "    self.start = Point(p1.x,p1.y)\n",
    "    self.end = Point(p2.x, p2.y)"
   ]
  },
  {
   "cell_type": "markdown",
   "metadata": {},
   "source": [
    "(c.) Create a function $rhs(LS,p)$ that takes a LineSegment $LS$ and a point $p$ and returns 1 if $p$ is on the right-hand-side going from $LS.A$ to $LS.B$; returns -1 if $p$ is on the left-hand-side going from $LS.A$ to $LS.B$; and zero if $p$ is on the line from $LS.A$ to $LS.B$. Hint, you can use the effecient way to compute the test that we discussed in class! (3p)"
   ]
  },
  {
   "cell_type": "code",
   "execution_count": 25,
   "metadata": {},
   "outputs": [],
   "source": [
    "import numpy as np"
   ]
  },
  {
   "cell_type": "code",
   "execution_count": 26,
   "metadata": {},
   "outputs": [],
   "source": [
    "def rhs(LS, p):\n",
    "    a = Point(LS.start.x - LS.end.x, LS.start.y - LS.end.y)\n",
    "    b = Point(p.x - LS.end.x, p.y - LS.end.y)\n",
    "    area = a.x * b.y - a.y * b.x\n",
    "    \n",
    "    if np.sign(area) == 1:\n",
    "        return 1\n",
    "    elif np.sign(area) == -1:\n",
    "        return -1\n",
    "    else:\n",
    "        return 0"
   ]
  },
  {
   "cell_type": "markdown",
   "metadata": {},
   "source": [
    "(d.) Write a function $cross(LS1, LS2)$ which takes two LineSegment objects $LS1$ and $LS2$, and returns 1 if they cross, and 0 otherwise. (3p)"
   ]
  },
  {
   "cell_type": "code",
   "execution_count": 27,
   "metadata": {},
   "outputs": [],
   "source": [
    "def diffside(LS1, LS2):\n",
    "    prod = rhs(LS1, LS2.start) * rhs(LS1, LS2.end)\n",
    "    if prod == -1:\n",
    "        return 1\n",
    "    else:\n",
    "        return 0"
   ]
  },
  {
   "cell_type": "code",
   "execution_count": 28,
   "metadata": {},
   "outputs": [],
   "source": [
    "def cross(LS1, LS2):\n",
    "    a = diffside(LS1, LS2)\n",
    "    b = diffside(LS2, LS1)\n",
    "    return (a & b)"
   ]
  },
  {
   "cell_type": "markdown",
   "metadata": {},
   "source": [
    "## Assignment 1-1 (Revised)\n",
    "***\n",
    "Since we now have a working code for the Point, LineSegment, and functions that determine the RHS and whether two line segments cross, we can check our answers to Assignment 1-1 and Assigement 1-2 at the same time."
   ]
  },
  {
   "cell_type": "code",
   "execution_count": 32,
   "metadata": {},
   "outputs": [],
   "source": [
    "def areaTri(p1,p2,p3):\n",
    "    a = Point(p2.x - p1.x, p2.y - p1.y)\n",
    "    b = Point(p3.x - p1.x, p3.y - p1.y)\n",
    "    area = a.x * b.y - a.y * b.x\n",
    "    return 0.5 * np.abs(area)"
   ]
  },
  {
   "cell_type": "code",
   "execution_count": 33,
   "metadata": {},
   "outputs": [],
   "source": [
    "p1 = Point(2,5)\n",
    "p2 = Point(2,6)\n",
    "p3 = Point(0,2)\n",
    "\n",
    "p4 = Point(0,13)\n",
    "p5 = Point(3,7)\n",
    "p6 = Point(-1,9)"
   ]
  },
  {
   "cell_type": "code",
   "execution_count": 34,
   "metadata": {},
   "outputs": [
    {
     "data": {
      "text/plain": [
       "1.0"
      ]
     },
     "execution_count": 34,
     "metadata": {},
     "output_type": "execute_result"
    }
   ],
   "source": [
    "area1 = areaTri(p1,p2,p3)\n",
    "area1"
   ]
  },
  {
   "cell_type": "code",
   "execution_count": 35,
   "metadata": {},
   "outputs": [
    {
     "data": {
      "text/plain": [
       "9.0"
      ]
     },
     "execution_count": 35,
     "metadata": {},
     "output_type": "execute_result"
    }
   ],
   "source": [
    "area2 = areaTri(p4,p5,p6)\n",
    "area2"
   ]
  },
  {
   "cell_type": "code",
   "execution_count": 9,
   "metadata": {},
   "outputs": [
    {
     "data": {
      "text/plain": [
       "5"
      ]
     },
     "execution_count": 9,
     "metadata": {},
     "output_type": "execute_result"
    }
   ],
   "source": [
    "p1p2 = LineSegment(p1,p2)\n",
    "\n",
    "sol1 = rhs(p1p2,p3)\n",
    "sol1\n"
   ]
  },
  {
   "cell_type": "code",
   "execution_count": 18,
   "metadata": {},
   "outputs": [
    {
     "data": {
      "text/plain": [
       "0"
      ]
     },
     "execution_count": 18,
     "metadata": {},
     "output_type": "execute_result"
    }
   ],
   "source": [
    "p4p5 = LineSegment(p4,p5)\n",
    "\n"
   ]
  },
  {
   "cell_type": "code",
   "execution_count": 21,
   "metadata": {},
   "outputs": [
    {
     "data": {
      "text/plain": [
       "1"
      ]
     },
     "execution_count": 21,
     "metadata": {},
     "output_type": "execute_result"
    }
   ],
   "source": [
    "p4p1 = LineSegment(p4,p1)\n",
    "p2p3 = LineSegment(p2,p3)\n",
    "\n",
    "sol3 = cross(p4p1, p2p3)\n",
    "sol3"
   ]
  },
  {
   "cell_type": "code",
   "execution_count": null,
   "metadata": {},
   "outputs": [],
   "source": []
  },
  {
   "cell_type": "markdown",
   "metadata": {},
   "source": [
    "## Acknowledgements\n",
    "***\n",
    "\n",
    "I would like to acknowledge that I attended Prof. Zufle's Office Hours after class on Wednesday, Sept. 4th."
   ]
  },
  {
   "cell_type": "markdown",
   "metadata": {},
   "source": []
  }
 ],
 "metadata": {
  "kernelspec": {
   "display_name": "Python 3",
   "language": "python",
   "name": "python3"
  },
  "language_info": {
   "codemirror_mode": {
    "name": "ipython",
    "version": 3
   },
   "file_extension": ".py",
   "mimetype": "text/x-python",
   "name": "python",
   "nbconvert_exporter": "python",
   "pygments_lexer": "ipython3",
   "version": "3.12.5"
  }
 },
 "nbformat": 4,
 "nbformat_minor": 2
}
