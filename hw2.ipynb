{
 "cells": [
  {
   "cell_type": "markdown",
   "metadata": {},
   "source": [
    "# CS 584 - Spatial Algorithms\n",
    "### Mitchell Scott (mtscot4)\n",
    "### Fall 2024\n",
    "\n",
    "## Assignment 2-1\n",
    "***"
   ]
  },
  {
   "cell_type": "code",
   "execution_count": 126,
   "metadata": {},
   "outputs": [],
   "source": [
    "import numpy as np\n",
    "import matplotlib.pyplot as plt\n",
    "from hw1Code import Point, LineSegment, rhsPoints, cross"
   ]
  },
  {
   "cell_type": "code",
   "execution_count": 109,
   "metadata": {},
   "outputs": [],
   "source": [
    "class Polygon:\n",
    "    def __init__(self, points) -> None:\n",
    "        self.n = len(points)\n",
    "        # A list of points of the polygon\n",
    "        self.points = points\n",
    "\n",
    "    def minBoundRect(points):\n",
    "        xpts = np.array([])\n",
    "        ypts = np.array([])\n",
    "\n",
    "        for i in range(len(points)):\n",
    "            xpts = np.append(xpts, points[i].x)\n",
    "            ypts = np.append(ypts, points[i].y)\n",
    "\n",
    "        xpts = np.sort(xpts)\n",
    "        ypts = np.sort(ypts)\n",
    "\n",
    "        xrange = np.array([xpts[0], xpts[-1]])\n",
    "        yrange = np.array([ypts[0], ypts[-1]])\n",
    "\n",
    "        return xrange, yrange"
   ]
  },
  {
   "cell_type": "code",
   "execution_count": 78,
   "metadata": {},
   "outputs": [],
   "source": [
    "def PiP(q,poly):\n",
    "    # q - point object\n",
    "    # poly - Polygon object\n",
    "    n = poly.n\n",
    "    logic = (rhsPoints(poly.points[-1], poly.points[0], q) == -1)\n",
    "    if (logic == True): #LHS\n",
    "        for i in range(n-1):\n",
    "            if (rhsPoints(poly.points[i], poly.points[i+1], q) != -1): \n",
    "                # If it is ever not on LHS, break\n",
    "                logic = 0\n",
    "                break\n",
    "    elif (logic == False): #RHS\n",
    "        logic = 1   # We are only checking if all are RHS now, and break if on LHS\n",
    "        for i in range(n-1): \n",
    "            if (rhsPoints(poly.points[i], poly.points[i+1], q) == -1):\n",
    "                logic = 0\n",
    "                break\n",
    "    else:\n",
    "        ValueError('No Degenerate cases allowed')\n",
    "        \n",
    "\n",
    "    return logic"
   ]
  },
  {
   "cell_type": "code",
   "execution_count": 79,
   "metadata": {},
   "outputs": [
    {
     "name": "stdout",
     "output_type": "stream",
     "text": [
      "Since the answer is True, then q is in the polygon\n"
     ]
    },
    {
     "data": {
      "image/png": "[encoded data removed]",
      "text/plain": [
       "<Figure size 640x480 with 1 Axes>"
      ]
     },
     "metadata": {},
     "output_type": "display_data"
    }
   ],
   "source": [
    "p1 = Point(0,0)\n",
    "p2 = Point(1,0)\n",
    "p3 = Point(2,2)\n",
    "p4 = Point(0.5,5)\n",
    "p5 = Point(-1,3)\n",
    "\n",
    "q = Point(0,3)\n",
    "\n",
    "p5p1 = LineSegment(p5,p1)\n",
    "\n",
    "poly = Polygon([p1,p2,p3,p4,p5])\n",
    "\n",
    "answ = PiP(q, poly)\n",
    "print('Since the answer is ' + str(answ) + ', then q is in the polygon')\n",
    "\n",
    "plt.plot(p1.x,p1.y, '.', p2.x,p2.y, '.', p3.x,p3.y, '.', p4.x,p4.y, '.', p5.x,p5.y, '.')\n",
    "plt.plot(q.x, q.y, 'o')\n",
    "plt.show()"
   ]
  },
  {
   "cell_type": "code",
   "execution_count": 139,
   "metadata": {},
   "outputs": [
    {
     "name": "stdout",
     "output_type": "stream",
     "text": [
      "Since the answer is 1, then q is in the polygon\n"
     ]
    },
    {
     "data": {
      "image/png": "[encoded data removed]",
      "text/plain": [
       "<Figure size 640x480 with 1 Axes>"
      ]
     },
     "metadata": {},
     "output_type": "display_data"
    }
   ],
   "source": [
    "p1 = Point(0,0)\n",
    "p2 = Point(1,0)\n",
    "p3 = Point(2,2)\n",
    "p4 = Point(0.5,5)\n",
    "p5 = Point(-1,3)\n",
    "\n",
    "q = Point(0,3)\n",
    "\n",
    "p5p1 = LineSegment(p5,p1)\n",
    "\n",
    "poly = Polygon([p5,p4,p3,p2,p1])\n",
    "\n",
    "answ = PiP(q, poly)\n",
    "print('Since the answer is ' + str(answ) + ', then q is in the polygon')\n",
    "\n",
    "plt.plot(p1.x,p1.y, '.', p2.x,p2.y, '.', p3.x,p3.y, '.', p4.x,p4.y, '.', p5.x,p5.y, '.')\n",
    "plt.plot(q.x, q.y, 'o')\n",
    "plt.show()\n"
   ]
  },
  {
   "cell_type": "code",
   "execution_count": 137,
   "metadata": {},
   "outputs": [
    {
     "name": "stdout",
     "output_type": "stream",
     "text": [
      "Since the answer is 0, then q is not in the polygon\n"
     ]
    },
    {
     "data": {
      "image/png": "[encoded data removed]",
      "text/plain": [
       "<Figure size 640x480 with 1 Axes>"
      ]
     },
     "metadata": {},
     "output_type": "display_data"
    }
   ],
   "source": [
    "p1 = Point(0,0)\n",
    "p2 = Point(1,0)\n",
    "p3 = Point(2,2)\n",
    "p4 = Point(0.5,5)\n",
    "p5 = Point(-1,3)\n",
    "\n",
    "q = Point(-1,-3)\n",
    "\n",
    "poly = Polygon([p1,p2,p3,p4,p5])\n",
    "\n",
    "answ = PiP(q, poly)\n",
    "print('Since the answer is ' + str(answ) + ', then q is not in the polygon')\n",
    "\n",
    "plt.plot(p1.x,p1.y, '.', p2.x,p2.y, '.', p3.x,p3.y, '.', p4.x,p4.y, '.', p5.x,p5.y, '.')\n",
    "plt.plot(q.x, q.y, 'o')\n",
    "plt.show()"
   ]
  },
  {
   "cell_type": "markdown",
   "metadata": {},
   "source": [
    "## Assignment 2-2\n",
    "***"
   ]
  },
  {
   "cell_type": "code",
   "execution_count": 141,
   "metadata": {},
   "outputs": [],
   "source": [
    "def numCount(q,points):\n",
    "    numcross = 0\n",
    "\n",
    "    n = len(points)\n",
    "\n",
    "    # First need to find the MBR\n",
    "    xrange, tmp = Polygon.minBoundRect(points)\n",
    "\n",
    "    # Then find q' = (MBR_x[1], q.y), where xrange = [xlo, xhi]\n",
    "    qprime = Point(xrange[1], q.y)\n",
    "    qLS = LineSegment(q,qprime)\n",
    "\n",
    "    testLS = LineSegment(points[n-1],points[0])\n",
    "\n",
    "    numcross += cross(testLS, qLS)\n",
    "    for i in range(n-1):\n",
    "        testLS = LineSegment(points[i],points[i+1])\n",
    "        numcross += cross(testLS, qLS)\n",
    "\n",
    "    if (numcross%2 == 1):\n",
    "        return 1    # Odd number of hits, means q in Poly\n",
    "    else:\n",
    "        return 0    # Even number of hits means q not in Poly\n",
    "    "
   ]
  },
  {
   "cell_type": "code",
   "execution_count": 148,
   "metadata": {},
   "outputs": [],
   "source": [
    "def rhsLS(LS, p):\n",
    "    a = Point(LS.end.x - LS.start.x, LS.end.y - LS.start.y)\n",
    "    b = Point(p.x - LS.start.x, p.y - LS.start.y)\n",
    "    area = a.x * b.y - a.y * b.x\n",
    "    \n",
    "    if np.sign(area) == 1:\n",
    "        return -1\n",
    "    elif np.sign(area) == -1:\n",
    "        return 1\n",
    "    else:\n",
    "        return 0\n",
    "    \n",
    "def diffside(LS1, LS2):\n",
    "    prod = rhsLS(LS1, LS2.start) * rhsLS(LS1, LS2.end)\n",
    "    if prod == -1:\n",
    "        return 1\n",
    "    elif prod == 1:\n",
    "        return -1\n",
    "    else:\n",
    "        return 0\n",
    "        \n",
    "def cross(LS1, LS2):\n",
    "    a = diffside(LS1, LS2)\n",
    "    b = diffside(LS2, LS1)\n",
    "    return (a and b)"
   ]
  },
  {
   "cell_type": "code",
   "execution_count": 146,
   "metadata": {},
   "outputs": [
    {
     "data": {
      "image/png": "[encoded data removed]",
      "text/plain": [
       "<Figure size 640x480 with 1 Axes>"
      ]
     },
     "metadata": {},
     "output_type": "display_data"
    },
    {
     "name": "stdout",
     "output_type": "stream",
     "text": [
      "1\n"
     ]
    }
   ],
   "source": [
    "p1 = Point(0,0)\n",
    "p2 = Point(5,0)\n",
    "p3 = Point(0.75,2)\n",
    "p4 = Point(0.5,5)\n",
    "p5 = Point(-1,3)\n",
    "\n",
    "q = Point(0,3)\n",
    "\n",
    "\n",
    "plt.plot(p1.x,p1.y, '.', p2.x,p2.y, '.', p3.x,p3.y, '.', p4.x,p4.y, '.', p5.x,p5.y, '.')\n",
    "plt.plot(q.x, q.y, 'o')\n",
    "plt.show()\n",
    "\n",
    "points = [p1,p2,p3,p4,p5]\n",
    "\n",
    "print(numCount(q, points))"
   ]
  },
  {
   "cell_type": "code",
   "execution_count": 147,
   "metadata": {},
   "outputs": [
    {
     "data": {
      "image/png": "[encoded data removed]",
      "text/plain": [
       "<Figure size 640x480 with 1 Axes>"
      ]
     },
     "metadata": {},
     "output_type": "display_data"
    },
    {
     "name": "stdout",
     "output_type": "stream",
     "text": [
      "0\n"
     ]
    }
   ],
   "source": [
    "p1 = Point(0,0)\n",
    "p2 = Point(5,0)\n",
    "p3 = Point(0.75,2)\n",
    "p4 = Point(0.5,5)\n",
    "p5 = Point(-1,3)\n",
    "\n",
    "q = Point(3,3)\n",
    "\n",
    "\n",
    "plt.plot(p1.x,p1.y, '.', p2.x,p2.y, '.', p3.x,p3.y, '.', p4.x,p4.y, '.', p5.x,p5.y, '.')\n",
    "plt.plot(q.x, q.y, 'o')\n",
    "plt.show()\n",
    "\n",
    "points = [p1,p2,p3,p4,p5]\n",
    "\n",
    "print(numCount(q, points))"
   ]
  },
  {
   "cell_type": "markdown",
   "metadata": {},
   "source": [
    "## Assignment 2-3\n",
    "***"
   ]
  },
  {
   "cell_type": "code",
   "execution_count": 150,
   "metadata": {},
   "outputs": [],
   "source": [
    "def numCount(q,points):\n",
    "    numcross = 0\n",
    "\n",
    "    n = len(points)\n",
    "    eps = 1e-12\n",
    "\n",
    "    # First need to find the MBR\n",
    "    xrange, tmp = Polygon.minBoundRect(points)\n",
    "\n",
    "    # Then find q' = (MBR_x[1], q.y), where xrange = [xlo, xhi]\n",
    "    qprime = Point(xrange[1], q.y)\n",
    "    qLS = LineSegment(q,qprime)\n",
    "\n",
    "    testLS = LineSegment(points[n-1],points[0])\n",
    "    if (cross(testLS, qLS) == 1):\n",
    "        numcross += 1\n",
    "    elif (cross(testLS, qLS) == 0):\n",
    "        # Move a little bit and recheck\n",
    "        qLS = Point(qLS.x + eps, qLS.y + eps)\n",
    "        if (cross(testLS, qLS) == 1):\n",
    "            # Recheck shows that there is a crossing, so just a degenerate case.\n",
    "            numcross +=1\n",
    "    for i in range(n-1):\n",
    "        testLS = LineSegment(points[i],points[i+1])\n",
    "        if (cross(testLS, qLS) == 1):\n",
    "            numcross += 1\n",
    "        elif (cross(testLS, qLS) == 0):\n",
    "            # Move a little bit and recheck\n",
    "            qLS = Point(qLS.x + eps, qLS.y + eps)\n",
    "            # Recheck shows that there is a crossing, so just a degenerate case.\n",
    "            if (cross(testLS, qLS) == 1):\n",
    "                numcross +=1\n",
    "\n",
    "    if (numcross%2 == 1):\n",
    "        return 1    # Odd number of hits, means q in Poly\n",
    "    else:\n",
    "        return 0    # Even number of hits means q not in Polyw"
   ]
  },
  {
   "cell_type": "markdown",
   "metadata": {},
   "source": []
  }
 ],
 "metadata": {
  "kernelspec": {
   "display_name": "Python 3",
   "language": "python",
   "name": "python3"
  },
  "language_info": {
   "codemirror_mode": {
    "name": "ipython",
    "version": 3
   },
   "file_extension": ".py",
   "mimetype": "text/x-python",
   "name": "python",
   "nbconvert_exporter": "python",
   "pygments_lexer": "ipython3",
   "version": "3.12.5"
  }
 },
 "nbformat": 4,
 "nbformat_minor": 2
}
