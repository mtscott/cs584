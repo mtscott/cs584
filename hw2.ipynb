{
 "cells": [
  {
   "cell_type": "markdown",
   "metadata": {},
   "source": [
    "# CS 584 - Spatial Algorithms\n",
    "### Mitchell Scott (mtscot4)\n",
    "### Fall 2024\n",
    "\n",
    "## Assignment 2-1\n",
    "***"
   ]
  },
  {
   "cell_type": "code",
   "execution_count": 1,
   "metadata": {},
   "outputs": [],
   "source": [
    "import numpy as np\n",
    "import hw1"
   ]
  },
  {
   "cell_type": "code",
   "execution_count": 2,
   "metadata": {},
   "outputs": [],
   "source": [
    "class Polygon:\n",
    "    def __init__(self, LS) -> None:\n",
    "        self.n = len(LS)\n",
    "        self.xpnts = LS.x\n",
    "        self.ypnts = LS.y\n",
    "\n",
    "    def minBoundRect():\n",
    "        xpnts = np.sort(xpnts)\n",
    "        ypnts = np.sort(ypnts)\n",
    "\n",
    "        xlo = xpnts[0]\n",
    "        xhi = xpnts[-1]\n",
    "\n",
    "        ylo = ypnts[0]\n",
    "        yhi = ypnts[-1]"
   ]
  },
  {
   "cell_type": "code",
   "execution_count": 3,
   "metadata": {},
   "outputs": [],
   "source": [
    "def PiP(p,Poly):\n",
    "    # p - point object\n",
    "    # Poly - Polygon object\n",
    "    return 1"
   ]
  },
  {
   "cell_type": "markdown",
   "metadata": {},
   "source": [
    "## Assignment 2-2\n",
    "***"
   ]
  },
  {
   "cell_type": "markdown",
   "metadata": {},
   "source": []
  },
  {
   "cell_type": "markdown",
   "metadata": {},
   "source": [
    "## Assignment 2-3\n",
    "***"
   ]
  },
  {
   "cell_type": "markdown",
   "metadata": {},
   "source": []
  }
 ],
 "metadata": {
  "kernelspec": {
   "display_name": "Python 3",
   "language": "python",
   "name": "python3"
  },
  "language_info": {
   "codemirror_mode": {
    "name": "ipython",
    "version": 3
   },
   "file_extension": ".py",
   "mimetype": "text/x-python",
   "name": "python",
   "nbconvert_exporter": "python",
   "pygments_lexer": "ipython3",
   "version": "3.12.5"
  }
 },
 "nbformat": 4,
 "nbformat_minor": 2
}
