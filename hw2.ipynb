{
 "cells": [
  {
   "cell_type": "markdown",
   "metadata": {},
   "source": [
    "# CS 584 - Spatial Algorithms\n",
    "### Mitchell Scott (mtscot4)\n",
    "### Fall 2024\n",
    "\n",
    "## Assignment 2-1\n",
    "***"
   ]
  },
  {
   "cell_type": "code",
   "execution_count": 116,
   "metadata": {},
   "outputs": [],
   "source": [
    "import numpy as np\n",
    "import matplotlib.pyplot as plt\n",
    "from hw1Code import Point, LineSegment, rhsPoints,rhsLS"
   ]
  },
  {
   "cell_type": "code",
   "execution_count": 109,
   "metadata": {},
   "outputs": [],
   "source": [
    "class Polygon:\n",
    "    def __init__(self, points) -> None:\n",
    "        self.n = len(points)\n",
    "        # A list of points of the polygon\n",
    "        self.points = points\n",
    "\n",
    "    def minBoundRect(points):\n",
    "        xpts = np.array([])\n",
    "        ypts = np.array([])\n",
    "\n",
    "        for i in range(len(points)):\n",
    "            xpts = np.append(xpts, points[i].x)\n",
    "            ypts = np.append(ypts, points[i].y)\n",
    "\n",
    "        xpts = np.sort(xpts)\n",
    "        ypts = np.sort(ypts)\n",
    "\n",
    "        xrange = np.array([xpts[0], xpts[-1]])\n",
    "        yrange = np.array([ypts[0], ypts[-1]])\n",
    "\n",
    "        return xrange, yrange"
   ]
  },
  {
   "cell_type": "code",
   "execution_count": 78,
   "metadata": {},
   "outputs": [],
   "source": [
    "def PiP(q,poly):\n",
    "    # q - point object\n",
    "    # poly - Polygon object\n",
    "    n = poly.n\n",
    "    logic = (rhsPoints(poly.points[-1], poly.points[0], q) == -1)\n",
    "    if (logic == True): #LHS\n",
    "        for i in range(n-1):\n",
    "            if (rhsPoints(poly.points[i], poly.points[i+1], q) != -1): \n",
    "                # If it is ever not on LHS, break\n",
    "                logic = 0\n",
    "                break\n",
    "    elif (logic == False): #RHS\n",
    "        logic = 1   # We are only checking if all are RHS now, and break if on LHS\n",
    "        for i in range(n-1): \n",
    "            if (rhsPoints(poly.points[i], poly.points[i+1], q) == -1):\n",
    "                logic = 0\n",
    "                break\n",
    "    else:\n",
    "        ValueError('No Degenerate cases allowed')\n",
    "        \n",
    "\n",
    "    return logic"
   ]
  },
  {
   "cell_type": "code",
   "execution_count": 79,
   "metadata": {},
   "outputs": [
    {
     "name": "stdout",
     "output_type": "stream",
     "text": [
      "Since the answer is True, then q is in the polygon\n"
     ]
    },
    {
     "data": {
      "image/png": "[encoded data removed]",
      "text/plain": [
       "<Figure size 640x480 with 1 Axes>"
      ]
     },
     "metadata": {},
     "output_type": "display_data"
    }
   ],
   "source": [
    "p1 = Point(0,0)\n",
    "p2 = Point(1,0)\n",
    "p3 = Point(2,2)\n",
    "p4 = Point(0.5,5)\n",
    "p5 = Point(-1,3)\n",
    "\n",
    "q = Point(0,3)\n",
    "\n",
    "p5p1 = LineSegment(p5,p1)\n",
    "\n",
    "poly = Polygon([p1,p2,p3,p4,p5])\n",
    "\n",
    "answ = PiP(q, poly)\n",
    "print('Since the answer is ' + str(answ) + ', then q is in the polygon')\n",
    "\n",
    "plt.plot(p1.x,p1.y, '.', p2.x,p2.y, '.', p3.x,p3.y, '.', p4.x,p4.y, '.', p5.x,p5.y, '.')\n",
    "plt.plot(q.x, q.y, 'o')\n",
    "plt.show()"
   ]
  },
  {
   "cell_type": "code",
   "execution_count": 80,
   "metadata": {},
   "outputs": [
    {
     "name": "stdout",
     "output_type": "stream",
     "text": [
      "Since the answer is 1, then q is in the polygon\n"
     ]
    },
    {
     "data": {
      "image/png": "[encoded data removed]",
      "text/plain": [
       "<Figure size 640x480 with 1 Axes>"
      ]
     },
     "metadata": {},
     "output_type": "display_data"
    }
   ],
   "source": [
    "p1 = Point(0,0)\n",
    "p2 = Point(1,0)\n",
    "p3 = Point(2,2)\n",
    "p4 = Point(0.5,5)\n",
    "p5 = Point(-1,3)\n",
    "\n",
    "q = Point(0,3)\n",
    "\n",
    "p5p1 = LineSegment(p5,p1)\n",
    "\n",
    "poly = Polygon([p5,p4,p3,p2,p1])\n",
    "\n",
    "answ = PiP(q, poly)\n",
    "print('Since the answer is ' + str(answ) + ', then q is in the polygon')\n",
    "\n",
    "plt.plot(p1.x,p1.y, '.', p2.x,p2.y, '.', p3.x,p3.y, '.', p4.x,p4.y, '.', p5.x,p5.y, '.')\n",
    "plt.plot(q.x, q.y, 'o')\n",
    "plt.show()\n"
   ]
  },
  {
   "cell_type": "code",
   "execution_count": 81,
   "metadata": {},
   "outputs": [
    {
     "name": "stdout",
     "output_type": "stream",
     "text": [
      "Since the answer is 0, then q is in the polygon\n"
     ]
    },
    {
     "data": {
      "image/png": "[encoded data removed]",
      "text/plain": [
       "<Figure size 640x480 with 1 Axes>"
      ]
     },
     "metadata": {},
     "output_type": "display_data"
    }
   ],
   "source": [
    "p1 = Point(0,0)\n",
    "p2 = Point(1,0)\n",
    "p3 = Point(2,2)\n",
    "p4 = Point(0.5,5)\n",
    "p5 = Point(-1,3)\n",
    "\n",
    "q = Point(-1,-3)\n",
    "\n",
    "poly = Polygon([p1,p2,p3,p4,p5])\n",
    "\n",
    "answ = PiP(q, poly)\n",
    "print('Since the answer is ' + str(answ) + ', then q is not in the polygon')\n",
    "\n",
    "plt.plot(p1.x,p1.y, '.', p2.x,p2.y, '.', p3.x,p3.y, '.', p4.x,p4.y, '.', p5.x,p5.y, '.')\n",
    "plt.plot(q.x, q.y, 'o')\n",
    "plt.show()"
   ]
  },
  {
   "cell_type": "markdown",
   "metadata": {},
   "source": [
    "## Assignment 2-2\n",
    "***"
   ]
  },
  {
   "cell_type": "code",
   "execution_count": 113,
   "metadata": {},
   "outputs": [],
   "source": [
    "def numCount(q,points):\n",
    "    numcross = 0\n",
    "\n",
    "    n = len(points)\n",
    "\n",
    "    # First need to find the MBR\n",
    "    xrange, tmp = Polygon.minBoundRect(points)\n",
    "\n",
    "    # Then find q' = (MBR_x[1], q.y), where xrange = [xlo, xhi]\n",
    "    qprime = Point(xrange[1], q.y)\n",
    "    qLS = LineSegment(q,qprime)\n",
    "\n",
    "    testLS = LineSegment(points[n-1],points[0])\n",
    "\n",
    "    numcross += cross(testLS, qLS)\n",
    "    for i in range(n-1):\n",
    "        testLS = LineSegment(points[i],points[i+1])\n",
    "        numcross += cross(testLS, qLS)\n",
    "\n",
    "    if (numcross%2 == 1):\n",
    "        return 1    # Odd number of hits, means q in Poly\n",
    "    else:\n",
    "        return 0    # Even number of hits means q not in Poly\n",
    "    "
   ]
  },
  {
   "cell_type": "code",
   "execution_count": 114,
   "metadata": {},
   "outputs": [
    {
     "ename": "NameError",
     "evalue": "name 'rhs' is not defined",
     "output_type": "error",
     "traceback": [
      "\u001b[0;31m---------------------------------------------------------------------------\u001b[0m",
      "\u001b[0;31mNameError\u001b[0m                                 Traceback (most recent call last)",
      "Cell \u001b[0;32mIn[114], line 3\u001b[0m\n\u001b[1;32m      1\u001b[0m points \u001b[38;5;241m=\u001b[39m [p5,p4,p3,p2,p1]\n\u001b[0;32m----> 3\u001b[0m \u001b[43mnumCount\u001b[49m\u001b[43m(\u001b[49m\u001b[43mq\u001b[49m\u001b[43m,\u001b[49m\u001b[43m \u001b[49m\u001b[43mpoints\u001b[49m\u001b[43m)\u001b[49m\n",
      "Cell \u001b[0;32mIn[113], line 15\u001b[0m, in \u001b[0;36mnumCount\u001b[0;34m(q, points)\u001b[0m\n\u001b[1;32m     11\u001b[0m qLS \u001b[38;5;241m=\u001b[39m LineSegment(q,qprime)\n\u001b[1;32m     13\u001b[0m testLS \u001b[38;5;241m=\u001b[39m LineSegment(points[n\u001b[38;5;241m-\u001b[39m\u001b[38;5;241m1\u001b[39m],points[\u001b[38;5;241m0\u001b[39m])\n\u001b[0;32m---> 15\u001b[0m numcross \u001b[38;5;241m+\u001b[39m\u001b[38;5;241m=\u001b[39m \u001b[43mcross\u001b[49m\u001b[43m(\u001b[49m\u001b[43mtestLS\u001b[49m\u001b[43m,\u001b[49m\u001b[43m \u001b[49m\u001b[43mqLS\u001b[49m\u001b[43m)\u001b[49m\n\u001b[1;32m     16\u001b[0m \u001b[38;5;28;01mfor\u001b[39;00m i \u001b[38;5;129;01min\u001b[39;00m \u001b[38;5;28mrange\u001b[39m(n\u001b[38;5;241m-\u001b[39m\u001b[38;5;241m1\u001b[39m):\n\u001b[1;32m     17\u001b[0m     testLS \u001b[38;5;241m=\u001b[39m LineSegment(points[i],points[i\u001b[38;5;241m+\u001b[39m\u001b[38;5;241m1\u001b[39m])\n",
      "File \u001b[0;32m~/Documents/GitHub/cs584/hw1Code.py:45\u001b[0m, in \u001b[0;36mcross\u001b[0;34m(LS1, LS2)\u001b[0m\n\u001b[1;32m     44\u001b[0m \u001b[38;5;28;01mdef\u001b[39;00m \u001b[38;5;21mcross\u001b[39m(LS1, LS2):\n\u001b[0;32m---> 45\u001b[0m     a \u001b[38;5;241m=\u001b[39m \u001b[43mdiffside\u001b[49m\u001b[43m(\u001b[49m\u001b[43mLS1\u001b[49m\u001b[43m,\u001b[49m\u001b[43m \u001b[49m\u001b[43mLS2\u001b[49m\u001b[43m)\u001b[49m\n\u001b[1;32m     46\u001b[0m     b \u001b[38;5;241m=\u001b[39m diffside(LS2, LS1)\n\u001b[1;32m     47\u001b[0m     \u001b[38;5;28;01mreturn\u001b[39;00m (a \u001b[38;5;241m&\u001b[39m b)\n",
      "File \u001b[0;32m~/Documents/GitHub/cs584/hw1Code.py:38\u001b[0m, in \u001b[0;36mdiffside\u001b[0;34m(LS1, LS2)\u001b[0m\n\u001b[1;32m     37\u001b[0m \u001b[38;5;28;01mdef\u001b[39;00m \u001b[38;5;21mdiffside\u001b[39m(LS1, LS2):\n\u001b[0;32m---> 38\u001b[0m     prod \u001b[38;5;241m=\u001b[39m rhsLS(LS1, LS2\u001b[38;5;241m.\u001b[39mstart) \u001b[38;5;241m*\u001b[39m rhsLS(LS1, LS2\u001b[38;5;241m.\u001b[39mend)\n\u001b[1;32m     39\u001b[0m     \u001b[38;5;28;01mif\u001b[39;00m prod \u001b[38;5;241m==\u001b[39m \u001b[38;5;241m-\u001b[39m\u001b[38;5;241m1\u001b[39m:\n\u001b[1;32m     40\u001b[0m         \u001b[38;5;28;01mreturn\u001b[39;00m \u001b[38;5;241m1\u001b[39m\n",
      "\u001b[0;31mNameError\u001b[0m: name 'rhs' is not defined"
     ]
    }
   ],
   "source": [
    "points = [p5,p4,p3,p2,p1]\n",
    "\n",
    "numCount(q, points)"
   ]
  },
  {
   "cell_type": "markdown",
   "metadata": {},
   "source": [
    "## Assignment 2-3\n",
    "***"
   ]
  },
  {
   "cell_type": "markdown",
   "metadata": {},
   "source": []
  }
 ],
 "metadata": {
  "kernelspec": {
   "display_name": "Python 3",
   "language": "python",
   "name": "python3"
  },
  "language_info": {
   "codemirror_mode": {
    "name": "ipython",
    "version": 3
   },
   "file_extension": ".py",
   "mimetype": "text/x-python",
   "name": "python",
   "nbconvert_exporter": "python",
   "pygments_lexer": "ipython3",
   "version": "3.12.5"
  }
 },
 "nbformat": 4,
 "nbformat_minor": 2
}
